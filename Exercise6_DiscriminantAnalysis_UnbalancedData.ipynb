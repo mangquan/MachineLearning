{
 "cells": [
  {
   "cell_type": "markdown",
   "metadata": {},
   "source": [
    "## Exercise: Discriminant Analysis and Unbalanced Datasets\n",
    "\n",
    "\n",
    "In this exercise, we will use the handwritten digits data set of Scikit-learn (load_digits). Run the code below. Read the description of the data set and check a sample image. \n"
   ]
  },
  {
   "cell_type": "code",
   "execution_count": 2,
   "metadata": {},
   "outputs": [
    {
     "name": "stdout",
     "output_type": "stream",
     "text": [
      "dict_keys(['data', 'target', 'target_names', 'images', 'DESCR'])\n",
      "Optical Recognition of Handwritten Digits Data Set\n",
      "===================================================\n",
      "\n",
      "Notes\n",
      "-----\n",
      "Data Set Characteristics:\n",
      "    :Number of Instances: 5620\n",
      "    :Number of Attributes: 64\n",
      "    :Attribute Information: 8x8 image of integer pixels in the range 0..16.\n",
      "    :Missing Attribute Values: None\n",
      "    :Creator: E. Alpaydin (alpaydin '@' boun.edu.tr)\n",
      "    :Date: July; 1998\n",
      "\n",
      "This is a copy of the test set of the UCI ML hand-written digits datasets\n",
      "http://archive.ics.uci.edu/ml/datasets/Optical+Recognition+of+Handwritten+Digits\n",
      "\n",
      "The data set contains images of hand-written digits: 10 classes where\n",
      "each class refers to a digit.\n",
      "\n",
      "Preprocessing programs made available by NIST were used to extract\n",
      "normalized bitmaps of handwritten digits from a preprinted form. From a\n",
      "total of 43 people, 30 contributed to the training set and different 13\n",
      "to the test set. 32x32 bitmaps are divided into nonoverlapping blocks of\n",
      "4x4 and the number of on pixels are counted in each block. This generates\n",
      "an input matrix of 8x8 where each element is an integer in the range\n",
      "0..16. This reduces dimensionality and gives invariance to small\n",
      "distortions.\n",
      "\n",
      "For info on NIST preprocessing routines, see M. D. Garris, J. L. Blue, G.\n",
      "T. Candela, D. L. Dimmick, J. Geist, P. J. Grother, S. A. Janet, and C.\n",
      "L. Wilson, NIST Form-Based Handprint Recognition System, NISTIR 5469,\n",
      "1994.\n",
      "\n",
      "References\n",
      "----------\n",
      "  - C. Kaynak (1995) Methods of Combining Multiple Classifiers and Their\n",
      "    Applications to Handwritten Digit Recognition, MSc Thesis, Institute of\n",
      "    Graduate Studies in Science and Engineering, Bogazici University.\n",
      "  - E. Alpaydin, C. Kaynak (1998) Cascading Classifiers, Kybernetika.\n",
      "  - Ken Tang and Ponnuthurai N. Suganthan and Xi Yao and A. Kai Qin.\n",
      "    Linear dimensionalityreduction using relevance weighted LDA. School of\n",
      "    Electrical and Electronic Engineering Nanyang Technological University.\n",
      "    2005.\n",
      "  - Claudio Gentile. A New Approximate Maximal Margin Classification\n",
      "    Algorithm. NIPS. 2000.\n",
      "\n",
      "[ 0.  0.  0. 12. 13.  5.  0.  0.  0.  0.  0. 11. 16.  9.  0.  0.  0.  0.\n",
      "  3. 15. 16.  6.  0.  0.  0.  7. 15. 16. 16.  2.  0.  0.  0.  0.  1. 16.\n",
      " 16.  3.  0.  0.  0.  0.  1. 16. 16.  6.  0.  0.  0.  0.  1. 16. 16.  6.\n",
      "  0.  0.  0.  0.  0. 11. 16. 10.  0.  0.]\n"
     ]
    },
    {
     "data": {
      "text/plain": [
       "<Figure size 432x288 with 0 Axes>"
      ]
     },
     "metadata": {},
     "output_type": "display_data"
    },
    {
     "data": {
      "image/png": "[encoded data removed]",
      "text/plain": [
       "<Figure size 288x288 with 1 Axes>"
      ]
     },
     "metadata": {},
     "output_type": "display_data"
    }
   ],
   "source": [
    "%matplotlib inline\n",
    "import matplotlib.pyplot as plt\n",
    "from sklearn.datasets import load_digits\n",
    "import matplotlib.pyplot as plt \n",
    "from sklearn.discriminant_analysis import LinearDiscriminantAnalysis\n",
    "from sklearn.discriminant_analysis import QuadraticDiscriminantAnalysis\n",
    "from sklearn.model_selection import train_test_split\n",
    "from sklearn.metrics import confusion_matrix, precision_score, recall_score\n",
    "from sklearn.model_selection import cross_val_score\n",
    "import numpy as np\n",
    "\n",
    "\n",
    "DigitsData=load_digits()\n",
    "print(DigitsData.keys()) \n",
    "print(DigitsData.DESCR) #read description of the dataset\n",
    "print(DigitsData.data[1])\n",
    "\n",
    "#plot one of the images in the data\n",
    "plt.gray() \n",
    "plt.matshow(DigitsData.images[1]) \n",
    "plt.show() "
   ]
  },
  {
   "cell_type": "markdown",
   "metadata": {},
   "source": [
    "#### A) Our objective is to build classfiers that identify digit 9. For this purpose, answer the following (3pts):\n",
    "\n",
    "1) Define the target value to be equal to 1 (or True) only for digit 9, and 0 (or False) otherwise.\n",
    "You can define: y= (DigitsData.target == 9)\n",
    "\n",
    "\n",
    "- Find how many times y is equal to 9 and how many times it is not equal to 9\n",
    "\n",
    "You can use: print(sum(y==True)); print(sum(y==False))\n",
    "\n",
    "\n",
    "COMMENT: what do you observe? Is the dataset for this classification problem balanced or not?\n",
    "\n",
    "1. This dataset is unbalanced, too many True examples."
   ]
  },
  {
   "cell_type": "code",
   "execution_count": 3,
   "metadata": {},
   "outputs": [
    {
     "name": "stdout",
     "output_type": "stream",
     "text": [
      "The number of True label is: 180\n",
      "The number of False label is: 1617\n"
     ]
    }
   ],
   "source": [
    "# write your code here\n",
    "X = DigitsData.data\n",
    "\n",
    "Y = DigitsData.target\n",
    "\n",
    "Y_label = Y==9\n",
    "\n",
    "print('The number of True label is:', sum(Y_label == True))\n",
    "\n",
    "print('The number of False label is:', sum(Y_label == False))\n"
   ]
  },
  {
   "cell_type": "markdown",
   "metadata": {},
   "source": [
    "#### B) Find the accuracy of a dummy classifier (imported below) that always selects the majority class. Use the DigitsData.data as features and y (defined above) as the response. (3pts)\n",
    "\n",
    "     - Use train_test_split with random_state= 0 for splitting the data\n",
    "     - Select dummy classifier with \"most frequent\" strategy as follows: \n",
    "         - dummy_majority=DummyClassifier(strategy='most_frequent')\n"
   ]
  },
  {
   "cell_type": "code",
   "execution_count": 4,
   "metadata": {},
   "outputs": [
    {
     "data": {
      "text/plain": [
       "0.8955555555555555"
      ]
     },
     "execution_count": 4,
     "metadata": {},
     "output_type": "execute_result"
    }
   ],
   "source": [
    "# write your code here\n",
    "from sklearn.dummy import DummyClassifier\n",
    "from sklearn.model_selection import train_test_split\n",
    "\n",
    "x_train, x_test, y_train, y_test =  train_test_split(X, Y_label, random_state = 0)\n",
    "\n",
    "model = DummyClassifier(strategy = 'most_frequent')\n",
    "\n",
    "model.fit(x_train, y_train)\n",
    "\n",
    "model.score(x_test, y_test)"
   ]
  },
  {
   "cell_type": "markdown",
   "metadata": {},
   "source": [
    "#### C) Instead of a dummy classifier, use an LDA classifer (with default threshold) to solve the above classification problem. Find accuracy, confusion matrix, precision, and recall. (5pts)\n",
    "\n",
    "- Note: you may get a warning that features are correlated (collinear). However, we can still get the performance metrics as usual"
   ]
  },
  {
   "cell_type": "code",
   "execution_count": 5,
   "metadata": {},
   "outputs": [
    {
     "name": "stdout",
     "output_type": "stream",
     "text": [
      "[[394   9]\n",
      " [  7  40]]\n",
      "0.8163265306122449\n",
      "0.851063829787234\n"
     ]
    },
    {
     "name": "stderr",
     "output_type": "stream",
     "text": [
      "/anaconda3/lib/python3.6/site-packages/sklearn/discriminant_analysis.py:388: UserWarning: Variables are collinear.\n",
      "  warnings.warn(\"Variables are collinear.\")\n",
      "/anaconda3/lib/python3.6/site-packages/sklearn/discriminant_analysis.py:388: UserWarning: Variables are collinear.\n",
      "  warnings.warn(\"Variables are collinear.\")\n",
      "/anaconda3/lib/python3.6/site-packages/sklearn/discriminant_analysis.py:388: UserWarning: Variables are collinear.\n",
      "  warnings.warn(\"Variables are collinear.\")\n",
      "/anaconda3/lib/python3.6/site-packages/sklearn/discriminant_analysis.py:388: UserWarning: Variables are collinear.\n",
      "  warnings.warn(\"Variables are collinear.\")\n"
     ]
    },
    {
     "data": {
      "text/plain": [
       "array([0.96494157, 0.95993322, 0.95826377])"
      ]
     },
     "execution_count": 5,
     "metadata": {},
     "output_type": "execute_result"
    }
   ],
   "source": [
    "# write your code here\n",
    "LDA_model = LinearDiscriminantAnalysis()\n",
    "\n",
    "LDA_model.fit(x_train, y_train)\n",
    "\n",
    "LDA_model.score(x_train, y_train)\n",
    "\n",
    "y_predict = LDA_model.predict(x_test)\n",
    "\n",
    "print(confusion_matrix(y_test, y_predict))\n",
    "\n",
    "print(precision_score(y_test, y_predict))\n",
    "\n",
    "print(recall_score(y_test, y_predict))\n",
    "\n",
    "cross_val_score(LinearDiscriminantAnalysis(), X, Y_label)\n"
   ]
  },
  {
   "cell_type": "markdown",
   "metadata": {},
   "source": [
    "#### D) Use QDA classifer to perform the classification. Find accuracy, confusion matrix, precision, and recall. (5pts)\n",
    "- Note: expect to see a warning that features are correlated (collinear). You can still get performance metrics."
   ]
  },
  {
   "cell_type": "code",
   "execution_count": 9,
   "metadata": {},
   "outputs": [
    {
     "name": "stdout",
     "output_type": "stream",
     "text": [
      "0.6696362286562731\n",
      "[[249 154]\n",
      " [  1  46]]\n",
      "0.23\n",
      "0.9787234042553191\n"
     ]
    },
    {
     "name": "stderr",
     "output_type": "stream",
     "text": [
      "/anaconda3/lib/python3.6/site-packages/sklearn/discriminant_analysis.py:682: UserWarning: Variables are collinear\n",
      "  warnings.warn(\"Variables are collinear\")\n",
      "/anaconda3/lib/python3.6/site-packages/sklearn/discriminant_analysis.py:682: UserWarning: Variables are collinear\n",
      "  warnings.warn(\"Variables are collinear\")\n",
      "/anaconda3/lib/python3.6/site-packages/sklearn/discriminant_analysis.py:682: UserWarning: Variables are collinear\n",
      "  warnings.warn(\"Variables are collinear\")\n",
      "/anaconda3/lib/python3.6/site-packages/sklearn/discriminant_analysis.py:682: UserWarning: Variables are collinear\n",
      "  warnings.warn(\"Variables are collinear\")\n"
     ]
    },
    {
     "data": {
      "text/plain": [
       "array([0.83305509, 0.82971619, 0.81469115])"
      ]
     },
     "execution_count": 9,
     "metadata": {},
     "output_type": "execute_result"
    }
   ],
   "source": [
    "# write your code here\n",
    "\n",
    "\n",
    "QDA_model = QuadraticDiscriminantAnalysis()\n",
    "\n",
    "QDA_model.fit(x_train, y_train)\n",
    "\n",
    "print(QDA_model.score(x_train, y_train))\n",
    "\n",
    "y_predict = QDA_model.predict(x_test)\n",
    "\n",
    "print(confusion_matrix(y_test, y_predict))\n",
    "\n",
    "print(precision_score(y_test, y_predict))\n",
    "\n",
    "print(recall_score(y_test, y_predict))\n",
    "\n",
    "cross_val_score(QuadraticDiscriminantAnalysis(), X, Y_label)\n"
   ]
  },
  {
   "cell_type": "markdown",
   "metadata": {},
   "source": [
    "#### E) From the prediction of the QDA, plot the ROC curve. (4pts)"
   ]
  },
  {
   "cell_type": "code",
   "execution_count": 8,
   "metadata": {},
   "outputs": [
    {
     "name": "stdout",
     "output_type": "stream",
     "text": [
      "[0.00000000e+000 9.99987553e-001 3.34287885e-069 1.30942732e-116\n",
      " 2.00163264e-019 1.00000000e+000 1.08749549e-091 1.00000000e+000\n",
      " 1.00000000e+000 9.53938978e-001 9.38314268e-086 4.96780812e-002\n",
      " 1.00000000e+000 2.77641190e-217 1.66733832e-158 1.88807621e-217\n",
      " 2.65865807e-140 9.36824256e-001 2.68965579e-136 1.00000000e+000\n",
      " 1.00000000e+000 5.11851801e-049 1.00000000e+000 2.45618565e-283\n",
      " 0.00000000e+000 1.00000000e+000 2.09163898e-118 1.00000000e+000\n",
      " 1.20844984e-046 1.00000000e+000 0.00000000e+000 5.24302172e-088\n",
      " 7.52179800e-021 1.03713087e-031 1.00000000e+000 6.50597227e-240\n",
      " 2.21746041e-067 1.00000000e+000 1.00000000e+000 1.00000000e+000\n",
      " 1.00000000e+000 5.21780453e-054 1.00000000e+000 7.67171476e-005\n",
      " 1.00000000e+000 1.00000000e+000 1.68084998e-104 4.39940008e-055\n",
      " 3.49972813e-037 9.97632937e-001 1.00000000e+000 1.82786957e-002\n",
      " 8.99511305e-001 1.00000000e+000 1.87684093e-075 1.00000000e+000\n",
      " 3.51520310e-065 1.00000000e+000 4.60141052e-113 1.00000000e+000\n",
      " 1.68631240e-003 0.00000000e+000 1.00000000e+000 2.99073665e-160\n",
      " 0.00000000e+000 1.00000000e+000 1.00000000e+000 2.99947908e-017\n",
      " 1.00000000e+000 4.23167697e-011 1.00000000e+000 1.00000000e+000\n",
      " 2.20440799e-096 9.71138981e-001 7.27519133e-157 1.00000000e+000\n",
      " 3.17865925e-103 6.07098604e-213 1.00000000e+000 3.15766080e-064\n",
      " 1.24252410e-095 1.00000000e+000 1.24748145e-045 3.79733129e-016\n",
      " 1.00000000e+000 1.00000000e+000 1.00000000e+000 0.00000000e+000\n",
      " 1.00000000e+000 4.13954524e-031 1.00000000e+000 1.00000000e+000\n",
      " 1.00000000e+000 2.66924050e-038 2.18389699e-101 9.99999991e-001\n",
      " 9.71257062e-208 4.66886291e-036 9.32745348e-031 1.00000000e+000\n",
      " 1.44197452e-153 1.00000000e+000 1.89498572e-014 2.19498239e-005\n",
      " 1.00000000e+000 1.25417150e-079 3.77988690e-280 0.00000000e+000\n",
      " 0.00000000e+000 2.80415848e-144 1.00000000e+000 2.24023483e-110\n",
      " 1.32972139e-017 1.00000000e+000 1.00000000e+000 1.00000000e+000\n",
      " 9.33002098e-051 9.19105772e-125 1.46340330e-064 1.00000000e+000\n",
      " 3.98227555e-005 1.00000000e+000 1.25229063e-055 2.22148249e-193\n",
      " 3.47908074e-048 7.13986240e-039 8.98718941e-047 2.48788879e-113\n",
      " 9.99991925e-001 5.08059919e-144 1.00000000e+000 1.00000000e+000\n",
      " 1.00000000e+000 1.00000000e+000 1.00000000e+000 1.00000000e+000\n",
      " 3.62547999e-019 0.00000000e+000 1.00000000e+000 1.22427531e-213\n",
      " 9.88507414e-011 1.00000000e+000 4.39167441e-076 0.00000000e+000\n",
      " 1.18654943e-004 1.20141208e-010 3.85565817e-218 5.47666596e-045\n",
      " 1.53032010e-178 1.00000000e+000 1.00000000e+000 1.54002286e-016\n",
      " 1.00000000e+000 2.94453243e-106 2.27508292e-157 8.03265334e-066\n",
      " 1.00000000e+000 1.00000000e+000 1.00000000e+000 1.00000000e+000\n",
      " 8.13915800e-092 5.92911426e-063 2.97345689e-097 1.00000000e+000\n",
      " 1.01824492e-103 1.62264686e-037 3.40652929e-065 1.00000000e+000\n",
      " 1.00000000e+000 1.00000000e+000 8.41323062e-059 1.86883101e-006\n",
      " 2.51919794e-092 0.00000000e+000 0.00000000e+000 7.96081421e-085\n",
      " 1.00000000e+000 1.00000000e+000 1.85463421e-041 0.00000000e+000\n",
      " 0.00000000e+000 1.00000000e+000 2.39183861e-161 1.00000000e+000\n",
      " 1.95086525e-066 1.00000000e+000 1.00000000e+000 1.00000000e+000\n",
      " 1.26048812e-074 1.57312110e-123 9.99999407e-001 1.00000000e+000\n",
      " 4.34232054e-062 5.48268562e-015 3.39275482e-078 1.61199314e-074\n",
      " 9.01307327e-001 1.00000000e+000 2.82790391e-075 0.00000000e+000\n",
      " 1.00000000e+000 2.41321607e-030 1.60661862e-001 0.00000000e+000\n",
      " 3.15927239e-063 7.55581376e-110 2.01916456e-010 1.00000000e+000\n",
      " 3.21822022e-019 1.00000000e+000 1.00000000e+000 1.00000000e+000\n",
      " 0.00000000e+000 3.77818920e-011 0.00000000e+000 6.37151769e-027\n",
      " 2.52279379e-041 1.02336931e-052 1.00000000e+000 1.00000000e+000\n",
      " 0.00000000e+000 0.00000000e+000 1.00000000e+000 1.00000000e+000\n",
      " 1.20566746e-025 1.82474109e-072 2.16646775e-028 1.00000000e+000\n",
      " 1.00000000e+000 1.00000000e+000 3.78072779e-296 1.00000000e+000\n",
      " 0.00000000e+000 6.14538879e-050 1.00000000e+000 3.36034106e-011\n",
      " 2.67876725e-202 4.23237338e-002 6.68705525e-111 1.97948337e-222\n",
      " 3.30233952e-015 1.16763260e-037 1.00000000e+000 8.86157414e-050\n",
      " 1.00000000e+000 1.00000000e+000 1.00000000e+000 1.00000000e+000\n",
      " 1.00000000e+000 1.00000000e+000 1.00000000e+000 1.15284566e-088\n",
      " 1.00000000e+000 1.31587137e-008 2.42705253e-025 3.12974739e-007\n",
      " 1.00000000e+000 1.25088458e-046 7.92899930e-079 1.00000000e+000\n",
      " 1.00000000e+000 0.00000000e+000 2.24088908e-154 1.00000000e+000\n",
      " 1.00000000e+000 9.62373302e-001 5.06248978e-222 1.00000000e+000\n",
      " 1.00000000e+000 1.70058714e-084 1.00000000e+000 1.88193311e-184\n",
      " 2.87155325e-001 8.38850107e-063 1.00000000e+000 0.00000000e+000\n",
      " 2.78753374e-010 1.00000000e+000 1.00000000e+000 0.00000000e+000\n",
      " 0.00000000e+000 4.85786743e-062 1.00000000e+000 1.45139274e-065\n",
      " 1.07764542e-163 1.12626743e-090 1.36917538e-040 1.00000000e+000\n",
      " 9.99998267e-001 0.00000000e+000 1.16251805e-082 1.00000000e+000\n",
      " 9.01835651e-197 4.01393325e-204 0.00000000e+000 1.00000000e+000\n",
      " 1.19311400e-310 9.96211072e-001 8.36859810e-270 1.00000000e+000\n",
      " 1.96514069e-147 2.50031601e-091 1.76135799e-031 2.18451473e-033\n",
      " 1.07113187e-028 1.00000000e+000 6.27179872e-151 1.80815208e-025\n",
      " 0.00000000e+000 1.00000000e+000 7.46168819e-072 1.00000000e+000\n",
      " 1.00000000e+000 1.54934740e-004 1.45770897e-005 9.99998455e-001\n",
      " 1.00000000e+000 3.24007330e-086 1.00000000e+000 3.45208570e-143\n",
      " 1.00000000e+000 1.00000000e+000 1.28247651e-108 1.62285647e-029\n",
      " 1.00000000e+000 1.00000000e+000 1.29635787e-033 6.96632561e-322\n",
      " 6.57381740e-068 1.00000000e+000 0.00000000e+000 0.00000000e+000\n",
      " 1.00000000e+000 6.89764979e-024 1.00000000e+000 1.00000000e+000\n",
      " 7.82728125e-043 1.00000000e+000 1.00000000e+000 2.72096473e-169\n",
      " 1.00000000e+000 0.00000000e+000 1.69479174e-033 7.83135489e-153\n",
      " 1.00000000e+000 1.00000000e+000 1.00000000e+000 7.61621060e-154\n",
      " 9.15116436e-001 1.04030554e-188 1.00000000e+000 9.99942020e-001\n",
      " 1.00000000e+000 1.00000000e+000 7.58518562e-014 2.78588833e-049\n",
      " 4.94065646e-324 1.69733138e-027 1.00000000e+000 1.00000000e+000\n",
      " 0.00000000e+000 1.00000000e+000 1.00000000e+000 9.29362672e-008\n",
      " 6.17978051e-108 2.87694997e-135 1.00000000e+000 1.00000000e+000\n",
      " 1.00000000e+000 9.99999510e-001 1.00000000e+000 2.28291452e-064\n",
      " 1.00000000e+000 2.00646845e-048 4.24475988e-084 1.00000000e+000\n",
      " 2.34964867e-056 1.00000000e+000 2.81472291e-060 1.00000000e+000\n",
      " 1.65142178e-060 1.00000000e+000 9.73527649e-001 6.24495260e-064\n",
      " 1.75727450e-015 2.46814914e-256 5.45329352e-146 1.30544554e-066\n",
      " 5.91795560e-053 0.00000000e+000 2.26781919e-154 1.00000000e+000\n",
      " 1.00000000e+000 1.09502503e-109 4.48265242e-126 7.17891515e-163\n",
      " 1.61178057e-053 1.00000000e+000 5.28289583e-001 1.00000000e+000\n",
      " 1.00000000e+000 1.89478039e-007 1.00000000e+000 1.00000000e+000\n",
      " 9.58119431e-031 9.48749342e-057 0.00000000e+000 1.00000000e+000\n",
      " 1.00000000e+000 3.57053104e-112 6.84715242e-021 1.00000000e+000\n",
      " 7.70233931e-080 1.00000000e+000 1.00000000e+000 2.63730133e-044\n",
      " 5.18169819e-191 2.26146393e-030 1.43968085e-010 1.00000000e+000\n",
      " 1.00000000e+000 1.00000000e+000 1.00000000e+000 9.99999998e-001\n",
      " 9.55466976e-032 8.46506253e-019 1.00000000e+000 0.00000000e+000\n",
      " 1.00000000e+000 1.00000000e+000 1.00000000e+000 1.00000000e+000\n",
      " 2.34793615e-280 3.75975955e-072 1.00000000e+000 1.00000000e+000\n",
      " 1.00000000e+000 2.36873421e-108 1.00000000e+000 7.06754844e-032\n",
      " 1.67669683e-017 3.71149213e-052 1.00000000e+000 2.61706434e-017\n",
      " 1.50255752e-061 9.99999412e-001 9.85916632e-012 1.00000000e+000\n",
      " 1.93409849e-044 1.00000000e+000]\n"
     ]
    },
    {
     "data": {
      "image/png": "[encoded data removed]",
      "text/plain": [
       "<Figure size 432x288 with 1 Axes>"
      ]
     },
     "metadata": {},
     "output_type": "display_data"
    },
    {
     "name": "stdout",
     "output_type": "stream",
     "text": [
      "[False False False False False False False  True False False False False\n",
      " False False False False False False False False False False False False\n",
      " False False False  True False  True False False False False  True False\n",
      " False False False False False False False False False False False False\n",
      " False False  True False False  True False False False False False False\n",
      " False False False False False  True False False  True False False False\n",
      " False False False False False False  True False False False False False\n",
      " False False False False False False  True  True False False False False\n",
      " False False False False False False False False  True False False False\n",
      " False False False False False  True False  True False False False False\n",
      " False False False False False False False False False False  True  True\n",
      "  True False  True  True False False False False False False False  True\n",
      " False False False False False  True  True False False False False False\n",
      " False  True False False False False False False False False False False\n",
      "  True False False False False False False False False False False False\n",
      " False False False False False False False False False False False False\n",
      " False False False False False  True False False False False False False\n",
      " False False False False False  True False  True False False False False\n",
      " False False False  True False False  True False False False False False\n",
      " False False False  True False False False False False False False False\n",
      " False False  True False False False False False False False False False\n",
      " False False False False False False False False  True False False False\n",
      "  True False False False False False False False False False False False\n",
      " False False False False False False False False False False False False\n",
      " False False False  True False False False False False False False  True\n",
      " False False False False False  True False False False False False False\n",
      "  True False False False False False False False False False False False\n",
      "  True False False False False False False False  True False False False\n",
      " False False False False False False False False False False  True False\n",
      " False False False False False  True False False False False False False\n",
      " False False False False False False False False False False  True False\n",
      " False False False False False False False False False False False False\n",
      " False False False False False False False False False False False False\n",
      " False False False  True False False False False False False False False\n",
      " False False False False False False False False False False False  True\n",
      " False False False False False False False False False  True False False\n",
      " False False False False  True False False False False False False False\n",
      " False False False False False  True]\n"
     ]
    },
    {
     "name": "stderr",
     "output_type": "stream",
     "text": [
      "/anaconda3/lib/python3.6/site-packages/ipykernel_launcher.py:16: FutureWarning: elementwise comparison failed; returning scalar instead, but in the future will perform elementwise comparison\n",
      "  app.launch_new_instance()\n"
     ]
    }
   ],
   "source": [
    "from sklearn.metrics import roc_curve\n",
    "\n",
    "print(QDA_model.predict_proba(x_test)[:,1])\n",
    "\n",
    "falsePostiveRate, truePostiveRate, threshold = roc_curve(y_test, QDA_model.predict_proba(x_test)[:,1])\n",
    "\n",
    "plt.plot(falsePostiveRate, truePostiveRate)\n",
    "\n",
    "plt.xlabel('False postive rate.')\n",
    "\n",
    "plt.ylabel('True postive rate.')\n",
    "\n",
    "plt.show()\n",
    "\n",
    "\n",
    "y_test == '1'\n",
    "\n",
    "print(y_test)"
   ]
  },
  {
   "cell_type": "code",
   "execution_count": 24,
   "metadata": {},
   "outputs": [
    {
     "ename": "AttributeError",
     "evalue": "'numpy.ndarray' object has no attribute 'value'",
     "output_type": "error",
     "traceback": [
      "\u001b[0;31m---------------------------------------------------------------------------\u001b[0m",
      "\u001b[0;31mAttributeError\u001b[0m                            Traceback (most recent call last)",
      "\u001b[0;32m<ipython-input-24-e2e7c89ab216>\u001b[0m in \u001b[0;36m<module>\u001b[0;34m()\u001b[0m\n\u001b[0;32m----> 1\u001b[0;31m \u001b[0mprint\u001b[0m\u001b[0;34m(\u001b[0m\u001b[0mthreshold\u001b[0m\u001b[0;34m.\u001b[0m\u001b[0mvalue\u001b[0m\u001b[0;34m)\u001b[0m\u001b[0;34m\u001b[0m\u001b[0m\n\u001b[0m",
      "\u001b[0;31mAttributeError\u001b[0m: 'numpy.ndarray' object has no attribute 'value'"
     ]
    }
   ],
   "source": []
  },
  {
   "cell_type": "code",
   "execution_count": null,
   "metadata": {},
   "outputs": [],
   "source": []
  }
 ],
 "metadata": {
  "kernelspec": {
   "display_name": "Python 3",
   "language": "python",
   "name": "python3"
  },
  "language_info": {
   "codemirror_mode": {
    "name": "ipython",
    "version": 3
   },
   "file_extension": ".py",
   "mimetype": "text/x-python",
   "name": "python",
   "nbconvert_exporter": "python",
   "pygments_lexer": "ipython3",
   "version": "3.6.5"
  }
 },
 "nbformat": 4,
 "nbformat_minor": 2
}
