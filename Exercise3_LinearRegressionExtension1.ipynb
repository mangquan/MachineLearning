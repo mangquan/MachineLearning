{
 "cells": [
  {
   "cell_type": "markdown",
   "metadata": {},
   "source": [
    "# Linear Regression\n",
    "\n",
    "## Qualitative Features & Interaction Terms\n",
    "\n",
    "### A) Use the credit data set, fit OLS linear regressio model using all the following features\n",
    "\n",
    " - Student\n",
    " - Income\n",
    " - Limit\n",
    " - Interaction term: Income*Student\n",
    " - Interaction term: Limit*Student\n",
    "\n",
    "Find the p-values of all features. Are they all helpful in predicting the response? \n"
   ]
  },
  {
   "cell_type": "code",
   "execution_count": 3,
   "metadata": {},
   "outputs": [
    {
     "name": "stdout",
     "output_type": "stream",
     "text": [
      "                            OLS Regression Results                            \n",
      "==============================================================================\n",
      "Dep. Variable:                Balance   R-squared:                       0.953\n",
      "Model:                            OLS   Adj. R-squared:                  0.952\n",
      "Method:                 Least Squares   F-statistic:                     1583.\n",
      "Date:                Mon, 24 Sep 2018   Prob (F-statistic):          2.91e-258\n",
      "Time:                        12:30:33   Log-Likelihood:                -2409.6\n",
      "No. Observations:                 400   AIC:                             4831.\n",
      "Df Residuals:                     394   BIC:                             4855.\n",
      "Df Model:                           5                                         \n",
      "Covariance Type:            nonrobust                                         \n",
      "================================================================================\n",
      "                   coef    std err          t      P>|t|      [0.025      0.975]\n",
      "--------------------------------------------------------------------------------\n",
      "Intercept     -415.3863     12.436    -33.401      0.000    -439.836    -390.936\n",
      "Student        235.2261     41.256      5.702      0.000     154.117     316.336\n",
      "Limit            0.2613      0.004     69.090      0.000       0.254       0.269\n",
      "Income          -7.6162      0.252    -30.272      0.000      -8.111      -7.122\n",
      "Interaction     -2.5835      0.702     -3.678      0.000      -3.965      -1.202\n",
      "Interaction2     0.0667      0.012      5.515      0.000       0.043       0.090\n",
      "==============================================================================\n",
      "Omnibus:                       24.858   Durbin-Watson:                   1.906\n",
      "Prob(Omnibus):                  0.000   Jarque-Bera (JB):               28.166\n",
      "Skew:                           0.649   Prob(JB):                     7.65e-07\n",
      "Kurtosis:                       3.069   Cond. No.                     4.35e+04\n",
      "==============================================================================\n",
      "\n",
      "Warnings:\n",
      "[1] Standard Errors assume that the covariance matrix of the errors is correctly specified.\n",
      "[2] The condition number is large, 4.35e+04. This might indicate that there are\n",
      "strong multicollinearity or other numerical problems.\n"
     ]
    }
   ],
   "source": [
    "import statsmodels.formula.api as smf\n",
    "from pandas import read_csv\n",
    "\n",
    "credit =read_csv('Credit2.csv')\n",
    "\n",
    "# Add your code here\n",
    "credit = read_csv('Credit2.csv')\n",
    "\n",
    "# Assign values to discrete variables\n",
    "credit.Student = credit.Student.map({'No': 0, 'Yes': 1})\n",
    "credit.Married = credit.Married.map({'No': 0, 'Yes': 1})\n",
    "credit.Ethnicity = credit.Ethnicity.map({'Caucasian': 0, 'Asian': 1, 'African American': 2})\n",
    "\n",
    "# Insert the interaction term\n",
    "credit['Interaction'] = credit.Income * credit.Student\n",
    "credit['Interaction2'] = credit.Limit * credit.Student\n",
    "\n",
    "# Create the model\n",
    "s\n",
    "# fit the model\n",
    "fittingResult = model.fit()\n",
    "\n",
    "# the result shows very low p-values regarding to these parameters which mean the actual relationships are not additive\n",
    "print(fittingResult.summary())\n"
   ]
  },
  {
   "cell_type": "markdown",
   "metadata": {},
   "source": [
    "### B) Find the test $R^2$ score for estimating the balance from features (Income, Limit, StudentEncode) using linear regression model. The StudentEncode is the binary feature that maps Student (yes to 1 and No to 0)\n",
    "- Hint:You can use credit.Student.map({'No':0 , 'Yes':1}) to create StudentEncode \n"
   ]
  },
  {
   "cell_type": "code",
   "execution_count": 4,
   "metadata": {},
   "outputs": [
    {
     "name": "stdout",
     "output_type": "stream",
     "text": [
      "The R2 score of this model without interaction term is0.9492691755287319\n"
     ]
    }
   ],
   "source": [
    "import pandas as pd\n",
    "import numpy as np\n",
    "from sklearn.model_selection import train_test_split\n",
    "from sklearn.linear_model import LinearRegression\n",
    "\n",
    "# Add your code here\n",
    "X = credit[['Limit', 'Income', 'Student']].values\n",
    "\n",
    "Y = credit[['Balance']].values\n",
    "\n",
    "X_train, X_test, Y_train, Y_test = train_test_split(X, Y, random_state=0)\n",
    "\n",
    "model = LinearRegression().fit(X_train, Y_train)\n",
    "\n",
    "print('The R2 score of this model without interaction term is' + str(model.score(X_test, Y_test)))\n",
    "\n",
    "\n",
    "\n"
   ]
  },
  {
   "cell_type": "markdown",
   "metadata": {},
   "source": [
    "### C) Repeat the above question after adding to the model two interaction terms: Income * StudentEncode and Limit * StudentEncode\n",
    "\n",
    "    you can use:\n",
    "        credit['InteractionTerm1']=credit.Income*credit.StudentEncode\n",
    "        credit['InteractionTerm2']=credit.Limit*credit.StudentEncode"
   ]
  },
  {
   "cell_type": "code",
   "execution_count": 5,
   "metadata": {},
   "outputs": [
    {
     "name": "stdout",
     "output_type": "stream",
     "text": [
      "The R2 score of this model with interaction term is0.9525853236314719\n"
     ]
    }
   ],
   "source": [
    "# Add your code here\n",
    "# Retrain the model with interaction term\n",
    "\n",
    "X2 = credit[['Limit', 'Income', 'Student', 'Interaction', 'Interaction2']].values\n",
    "\n",
    "X_train, X_test, Y_train, Y_test = train_test_split(X2, Y, random_state=0)\n",
    "\n",
    "model = LinearRegression().fit(X_train, Y_train)\n",
    "\n",
    "print('The R2 score of this model with interaction term is' + str(model.score(X_test, Y_test)))"
   ]
  },
  {
   "cell_type": "code",
   "execution_count": null,
   "metadata": {},
   "outputs": [],
   "source": []
  }
 ],
 "metadata": {
  "kernelspec": {
   "display_name": "Python 3",
   "language": "python",
   "name": "python3"
  },
  "language_info": {
   "codemirror_mode": {
    "name": "ipython",
    "version": 3
   },
   "file_extension": ".py",
   "mimetype": "text/x-python",
   "name": "python",
   "nbconvert_exporter": "python",
   "pygments_lexer": "ipython3",
   "version": "3.6.5"
  }
 },
 "nbformat": 4,
 "nbformat_minor": 2
}
