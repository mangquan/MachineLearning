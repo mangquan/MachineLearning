{
 "cells": [
  {
   "cell_type": "markdown",
   "metadata": {},
   "source": [
    "<div style=\"text-align: center;\">\n",
    "<h2>INFSCI 2595 Machine Learning - Fall 2018 </h2>\n",
    "<h1 style=\"font-size: 250%;\">Assignment #1</h1>\n",
    "<h3>Due: Sunday 09/30/2018</h3>\n",
    "<h3>Total points: 100 </h3>\n",
    "</div>"
   ]
  },
  {
   "cell_type": "code",
   "execution_count": 2,
   "metadata": {
    "collapsed": true
   },
   "outputs": [],
   "source": [
    "# Type in your information in the double quotes\n",
    "firstName = \"Mangquan\"\n",
    "lastName = \"Shi\"\n",
    "pittID = \"4301007\" mas792"
   ]
  },
  {
   "cell_type": "code",
   "execution_count": 1,
   "metadata": {},
   "outputs": [],
   "source": [
    "#Libraries \n",
    "import numpy as np \n",
    "import pandas as pd\n",
    "import seaborn as sns\n",
    "import statsmodels.api as sm\n",
    "import matplotlib.pyplot as plt\n",
    "from IPython.display import Image\n",
    "import statsmodels.formula.api as smf\n",
    "from sklearn.datasets import load_boston\n",
    "from sklearn.linear_model import LinearRegression\n",
    "from sklearn.model_selection import train_test_split\n",
    "from scipy import stats\n",
    "from sklearn import datasets"
   ]
  },
  {
   "cell_type": "markdown",
   "metadata": {},
   "source": [
    "---"
   ]
  },
  {
   "cell_type": "markdown",
   "metadata": {},
   "source": [
    "<h3>  Problem #1. K-nearest neighbors  [20 points] </h3> \n",
    "\n",
    "The table below provides a training data set containing six observations, three predictors, and one qualitative response variable.\n",
    "Suppose we wish to use this data set to make a prediction for Y when X1 = 1.2, X2 = 1.3, X3 = 2.4 using K-nearest neighbors.\n",
    "hint: in problems 1-2 and 1-3, use \"stats.mode\" from scipy library and \"nsmallest\" function in dataframe to get n smallest values from the distance table calculated in 1-1."
   ]
  },
  {
   "cell_type": "markdown",
   "metadata": {},
   "source": [
    "|Obs.|X1|X2|X3|Y\n",
    "|--|-------------------------------|\n",
    "|1 |0.1|2.9|0|Green|\n",
    "|2 |2.2|0|0|Green|\n",
    "|3|0|1.3|3.3|Green|\n",
    "|4|0|1.4|2.5|Red|\n",
    "|5|-1.2|0|1.4|Red|\n",
    "|6|1.1|1.2|1.1|Green|\n",
    "|7|1.5|0|0|Green|\n",
    "|8|0|1.3|1.9|Red|\n",
    "|9|0|2.8|0|Green|"
   ]
  },
  {
   "cell_type": "markdown",
   "metadata": {},
   "source": [
    "<b>Problem #1-1.</b> Compute the Euclidean distance between each observation and the test point, X1 = 1.2, X2 = 1.3, X3 = 2.4\n",
    "The output should be a (9*1) column vector where each row shows the distance between the observations and the test point.\n"
   ]
  },
  {
   "cell_type": "code",
   "execution_count": 5,
   "metadata": {},
   "outputs": [
    {
     "name": "stdout",
     "output_type": "stream",
     "text": [
      "The Euclidean distance matrix is: \n",
      "[[3.08706981]\n",
      " [2.90688837]\n",
      " [1.5       ]\n",
      " [1.2083046 ]\n",
      " [2.90688837]\n",
      " [1.30766968]\n",
      " [2.74590604]\n",
      " [1.3       ]\n",
      " [3.07408523]]\n",
      "Add distance column into the datasets: \n",
      "  Obs    X1   X2   X3      Y  Distance\n",
      "0   1   0.1  2.9  0.0  Green  3.087070\n",
      "1   2   2.2  0.0  0.0  Green  2.906888\n",
      "2   3   0.0  1.3  3.3  Green  1.500000\n",
      "3   4   0.0  1.4  2.5    Red  1.208305\n",
      "4   5  -1.2  0.0  1.4    Red  2.906888\n",
      "5   6   1.1  1.2  1.1  Green  1.307670\n",
      "6   7   1.5  0.0  0.0  Green  2.745906\n",
      "7   8   0.0  1.3  1.9    Red  1.300000\n",
      "8   9   0.0  2.8  0.0  Green  3.074085\n"
     ]
    }
   ],
   "source": [
    "# Answer code \n",
    "# here is all data \n",
    "data = pd.DataFrame(np.array(\n",
    "       [[1, 0.1, 2.9, 0.0, 'Green'],\n",
    "       [2, 2.2, 0.0, 0.0, 'Green'],\n",
    "       [3, 0.0, 1.3, 3.3, 'Green'],\n",
    "       [4, 0.0, 1.4, 2.5, 'Red'],\n",
    "       [5, -1.2, 0.0, 1.4, 'Red'],\n",
    "       [6, 1.1, 1.2, 1.1, 'Green'],\n",
    "       [7, 1.5, 0.0, 0.0, 'Green'],\n",
    "       [8, 0.0, 1.3, 1.9, 'Red'],\n",
    "       [9, 0.0, 2.8, 0.0, 'Green']]))\n",
    "\n",
    "data.columns = ['Obs', 'X1', 'X2', 'X3', 'Y']\n",
    "\n",
    "example = np.array([1.2, 1.3, 2.4])\n",
    "\n",
    "print(\"The Euclidean distance matrix is: \")\n",
    "distance = np.sum(np.square(example - data[['X1', 'X2', 'X3']].values.astype(float)), axis=1)\n",
    "print(np.sqrt(distance.reshape(9,1)))\n",
    "\n",
    "print(\"Add distance column into the datasets: \")\n",
    "data['Distance'] = np.sqrt(distance.reshape(9, 1))\n",
    "print(data)\n"
   ]
  },
  {
   "cell_type": "markdown",
   "metadata": {},
   "source": [
    "========================================================================================================================="
   ]
  },
  {
   "cell_type": "markdown",
   "metadata": {},
   "source": [
    "<b>Problem #1-2.</b> What is our prediction with K = 1? and explain why."
   ]
  },
  {
   "cell_type": "code",
   "execution_count": 23,
   "metadata": {},
   "outputs": [
    {
     "name": "stdout",
     "output_type": "stream",
     "text": [
      "The predication with k =1 is\n",
      "3    Red\n",
      "Name: Y, dtype: object\n",
      "Beacuse predicaiton is based on the distance between the test point and the rest of the points in the data set, so in this case(K = 1 ), the prediction we made is actually to find the closest point that around the test point which is point 3 red colour.\n"
     ]
    }
   ],
   "source": [
    "#Answer code\n",
    "print('The predication with k =1 is')\n",
    "\n",
    "print (data.nsmallest(1,'Distance')['Y'])\n",
    "\n",
    "print('Beacuse predicaiton is based on the distance between the test point and the rest of the points in the data set, so in this case(K = 1 ), the prediction we made is actually to find the closest point that around the test point which is point 3 red colour.')\n"
   ]
  },
  {
   "cell_type": "markdown",
   "metadata": {},
   "source": [
    "========================================================================================================================="
   ]
  },
  {
   "cell_type": "markdown",
   "metadata": {},
   "source": [
    "<b>Problem #1-3.</b> What is our prediction with K = 3? K = 5? and explain why."
   ]
  },
  {
   "cell_type": "code",
   "execution_count": 25,
   "metadata": {},
   "outputs": [
    {
     "name": "stdout",
     "output_type": "stream",
     "text": [
      "The predication with k = 3 is\n",
      "ModeResult(mode=array(['Red'], dtype=object), count=array([2]))\n"
     ]
    },
    {
     "name": "stderr",
     "output_type": "stream",
     "text": [
      "/anaconda3/lib/python3.6/site-packages/scipy/stats/stats.py:245: RuntimeWarning: The input array could not be properly checked for nan values. nan values will be ignored.\n",
      "  \"values. nan values will be ignored.\", RuntimeWarning)\n"
     ]
    }
   ],
   "source": [
    "# Answer code \n",
    "print('The predication with k = 3 is')\n",
    "\n",
    "print (stats.mode(data.nsmallest(3,'Distance')['Y']))"
   ]
  },
  {
   "cell_type": "code",
   "execution_count": 27,
   "metadata": {},
   "outputs": [
    {
     "name": "stdout",
     "output_type": "stream",
     "text": [
      "The predication with k = 5 is\n",
      "ModeResult(mode=array(['Green'], dtype=object), count=array([3]))\n"
     ]
    },
    {
     "name": "stderr",
     "output_type": "stream",
     "text": [
      "/anaconda3/lib/python3.6/site-packages/scipy/stats/stats.py:245: RuntimeWarning: The input array could not be properly checked for nan values. nan values will be ignored.\n",
      "  \"values. nan values will be ignored.\", RuntimeWarning)\n"
     ]
    }
   ],
   "source": [
    "# Answer code\n",
    "print('The predication with k = 5 is')\n",
    "\n",
    "print (stats.mode(data.nsmallest(5,'Distance')['Y']))\n"
   ]
  },
  {
   "cell_type": "markdown",
   "metadata": {},
   "source": [
    "========================================================================================================================="
   ]
  },
  {
   "cell_type": "markdown",
   "metadata": {},
   "source": [
    "<b>Problem #1-4.</b>  How using a different number of K has an impact on the performance? explain."
   ]
  },
  {
   "cell_type": "markdown",
   "metadata": {},
   "source": [
    "=========================================================================================================================<br>========================================================================================================================="
   ]
  },
  {
   "cell_type": "markdown",
   "metadata": {},
   "source": [
    "<h3>  Problem #2. Answer those questions about linear regression [30 points] </h3>  \n",
    "- Writing a code is not required for this question<br>\n",
    "- Feel free to select any type of submission you are comfortable with (Since it may require some mathematical formula and symbols; MS Word, or scanned version of your writing will be fine) "
   ]
  },
  {
   "cell_type": "markdown",
   "metadata": {},
   "source": [
    "<b>Problem #2-1.</b> Find the least squared fit of a linear regression model using the following traning data."
   ]
  },
  {
   "cell_type": "markdown",
   "metadata": {},
   "source": [
    "|Height(x)|Weight(y)|\n",
    "|:--:|:-------------------------------:|\n",
    "|63|127|\n",
    "|64|121|\n",
    "|66|142|\n",
    "|69|157|\n",
    "|69|162|\n",
    "|71|156|\n",
    "|71|169|\n",
    "|72|165|\n",
    "|73|181|"
   ]
  },
  {
   "cell_type": "code",
   "execution_count": 5,
   "metadata": {
    "collapsed": true,
    "scrolled": false
   },
   "outputs": [],
   "source": [
    "#Write your answer # Coding is not required\n",
    "\n",
    "1. First we assume the relationship is linear, so that we can write in this format:\n",
    "    \n",
    "    Y_predict = B1 * X + B0.\n",
    "    \n",
    "2. Then we need to use RSS to evaluate how good the chose of B1 and B0 is,\n",
    "\n",
    "RSS = (Y - Y_predict)^2 = (Y - B0 - B1*X)^2\n",
    "\n",
    "3. Our goal is to minize the RSS, so we take the partial derivative of RSS regarding to B0 and B1 respectly. \n",
    "And compute the B0 and B1 so that partial derivative terms will equal to 0.\n",
    "\n",
    "4.  B0 = mean of Y - B1*(mean of X), so it's clear we need to compute the B1 first.\n",
    "\n",
    "5. B1 = ((sum of y*x) - (sum of y_mean*x)) / ((sum of x^2) - (sum of x_mean*x))\n",
    "      = sum of (y - y_mean)(x - x_mean) / sum of(x - x_mean) = 5.2549\n",
    "    \n",
    "    so that B0 = -207.5032\n",
    "    \n",
    "6. So the model is Y = 5.2549*x - 207.5032\n",
    "\n",
    "\n"
   ]
  },
  {
   "cell_type": "code",
   "execution_count": 41,
   "metadata": {},
   "outputs": [
    {
     "name": "stderr",
     "output_type": "stream",
     "text": [
      "/anaconda3/lib/python3.6/site-packages/pandas/io/clipboards.py:63: ParserWarning: Falling back to the 'python' engine because the 'c' engine does not support regex separators (separators > 1 char and different from '\\s+' are interpreted as regex); you can avoid this warning by specifying engine='python'.\n",
      "  return read_table(StringIO(text), sep=sep, **kwargs)\n"
     ]
    }
   ],
   "source": []
  },
  {
   "cell_type": "markdown",
   "metadata": {
    "collapsed": true
   },
   "source": [
    "========================================================================================================================"
   ]
  },
  {
   "cell_type": "markdown",
   "metadata": {},
   "source": [
    "<b>Problem #2-2.</b> Given the test data below, compute the R-squared metric of the fitted model."
   ]
  },
  {
   "cell_type": "markdown",
   "metadata": {},
   "source": [
    "|X(feeding)|Y(death)|\n",
    "|:--:|:-------------------------------:|\n",
    "|27|10|\n",
    "|41|9|\n",
    "|56|28|\n",
    "|50|40|\n",
    "|73|39|\n",
    "|38|59|\n",
    "|72|60|\n",
    "|87|62|\n",
    "|51|64|"
   ]
  },
  {
   "cell_type": "code",
   "execution_count": 1,
   "metadata": {
    "collapsed": true,
    "scrolled": true
   },
   "outputs": [],
   "source": [
    "#Write your answer # Coding is not required\n",
    "\n",
    "1. Same as previous answer, we can get the B1 = 0.634 , B0 = 6.352\n",
    "\n",
    "2. TSS = sum of (Y - Y_mean)^2 = 3813.5\n",
    "\n",
    "   RSS = sum of (Y - B0 - B1*X)  = 2628.6298\n",
    "3. R2 = 1- RSS/TSS = 0.310"
   ]
  },
  {
   "cell_type": "markdown",
   "metadata": {
    "collapsed": true
   },
   "source": [
    "======================================================================================================================= <br>======================================================================================================================="
   ]
  },
  {
   "cell_type": "markdown",
   "metadata": {},
   "source": [
    "<h3>  Problem #3. This question involves the use of multiple linear regression on the Boston dataset [30 points]</h3> <br>\n",
    "In this part, you should download and analyze **\"Boston House Prices\"** dataset. <br>\n",
    "\n",
    "Here use a code below to download the  dataset: "
   ]
  },
  {
   "cell_type": "code",
   "execution_count": 2,
   "metadata": {},
   "outputs": [
    {
     "name": "stdout",
     "output_type": "stream",
     "text": [
      "dict_keys(['data', 'target', 'feature_names', 'DESCR'])\n"
     ]
    }
   ],
   "source": [
    "dataset = load_boston()\n",
    "print(dataset.keys())"
   ]
  },
  {
   "cell_type": "markdown",
   "metadata": {},
   "source": [
    "Hint: You may need to \"import statsmodels.formula.api as smf\" for some statistical analysis"
   ]
  },
  {
   "cell_type": "markdown",
   "metadata": {},
   "source": [
    "<b>Problem #3-1</b> Print the description of the dataset. \n",
    "\n",
    "<b> Answer the following question:</b> \n",
    "\n",
    "- Whole dataset contains 14 attributes, (13 numeric/categorical predictive and 1 target value)  what is a abbreviation of the target value? "
   ]
  },
  {
   "cell_type": "code",
   "execution_count": 3,
   "metadata": {
    "scrolled": true
   },
   "outputs": [
    {
     "data": {
      "text/plain": [
       "\"Boston House Prices dataset\\n===========================\\n\\nNotes\\n------\\nData Set Characteristics:  \\n\\n    :Number of Instances: 506 \\n\\n    :Number of Attributes: 13 numeric/categorical predictive\\n    \\n    :Median Value (attribute 14) is usually the target\\n\\n    :Attribute Information (in order):\\n        - CRIM     per capita crime rate by town\\n        - ZN       proportion of residential land zoned for lots over 25,000 sq.ft.\\n        - INDUS    proportion of non-retail business acres per town\\n        - CHAS     Charles River dummy variable (= 1 if tract bounds river; 0 otherwise)\\n        - NOX      nitric oxides concentration (parts per 10 million)\\n        - RM       average number of rooms per dwelling\\n        - AGE      proportion of owner-occupied units built prior to 1940\\n        - DIS      weighted distances to five Boston employment centres\\n        - RAD      index of accessibility to radial highways\\n        - TAX      full-value property-tax rate per $10,000\\n        - PTRATIO  pupil-teacher ratio by town\\n        - B        1000(Bk - 0.63)^2 where Bk is the proportion of blacks by town\\n        - LSTAT    % lower status of the population\\n        - MEDV     Median value of owner-occupied homes in $1000's\\n\\n    :Missing Attribute Values: None\\n\\n    :Creator: Harrison, D. and Rubinfeld, D.L.\\n\\nThis is a copy of UCI ML housing dataset.\\nhttp://archive.ics.uci.edu/ml/datasets/Housing\\n\\n\\nThis dataset was taken from the StatLib library which is maintained at Carnegie Mellon University.\\n\\nThe Boston house-price data of Harrison, D. and Rubinfeld, D.L. 'Hedonic\\nprices and the demand for clean air', J. Environ. Economics & Management,\\nvol.5, 81-102, 1978.   Used in Belsley, Kuh & Welsch, 'Regression diagnostics\\n...', Wiley, 1980.   N.B. Various transformations are used in the table on\\npages 244-261 of the latter.\\n\\nThe Boston house-price data has been used in many machine learning papers that address regression\\nproblems.   \\n     \\n**References**\\n\\n   - Belsley, Kuh & Welsch, 'Regression diagnostics: Identifying Influential Data and Sources of Collinearity', Wiley, 1980. 244-261.\\n   - Quinlan,R. (1993). Combining Instance-Based and Model-Based Learning. In Proceedings on the Tenth International Conference of Machine Learning, 236-243, University of Massachusetts, Amherst. Morgan Kaufmann.\\n   - many more! (see http://archive.ics.uci.edu/ml/datasets/Housing)\\n\""
      ]
     },
     "execution_count": 3,
     "metadata": {},
     "output_type": "execute_result"
    }
   ],
   "source": [
    "#Code\n",
    "dataset.DESCR"
   ]
  },
  {
   "cell_type": "markdown",
   "metadata": {},
   "source": [
    "======================================================================================================================="
   ]
  },
  {
   "cell_type": "markdown",
   "metadata": {},
   "source": [
    "<b>Problem #3-2 </b> Generate descriptive statistics using DataFrame. (hint: use \"DataFrame . describe\" function)<br>\n",
    "\n",
    "Follow two steps to answer questions.\n",
    "- Create a DataFrame usnig \"data\" from the dataset with columns using \"feature_names\".\n",
    "- Generate descriptive statistics \n",
    "\n",
    "<b> Answer the following questions:</b> \n",
    "\n",
    "-  Which feature has the lowest range (minimum and maximum value)?\n",
    "\n",
    "-  Which feature has the higest mean?  \n",
    "\n",
    "-  Which feature has a highest variance? "
   ]
  },
  {
   "cell_type": "code",
   "execution_count": 6,
   "metadata": {
    "scrolled": true
   },
   "outputs": [
    {
     "name": "stdout",
     "output_type": "stream",
     "text": [
      "The feature has the lowest range is\n",
      "     range\n",
      "NOX  0.486\n",
      "The feature has the highest mean is\n",
      "           mean\n",
      "TAX  408.237154\n",
      "The feature has the highest variance is\n",
      "         variance\n",
      "TAX  28404.759488\n"
     ]
    }
   ],
   "source": [
    "#Code\n",
    "houseData = pd.DataFrame(dataset.data)\n",
    "houseData.columns = [dataset.feature_names]\n",
    "\n",
    "describe = houseData.describe().T\n",
    "\n",
    "describe['range'] = describe[['max']].values - describe[['min']].values\n",
    "describe['variance'] = houseData.var()\n",
    "\n",
    "\n",
    "print ('The feature has the lowest range is' )\n",
    "print(describe.nsmallest(1,'range')[['range']])\n",
    "\n",
    "print ('The feature has the highest mean is' )\n",
    "print(describe.nlargest(1,'mean')[['mean']])\n",
    "\n",
    "print ('The feature has the highest variance is' )\n",
    "print(describe.nlargest(1,'variance')[['variance']])"
   ]
  },
  {
   "cell_type": "markdown",
   "metadata": {},
   "source": [
    "======================================================================================================================="
   ]
  },
  {
   "cell_type": "markdown",
   "metadata": {},
   "source": [
    "# <b>Problem #3-3 </b> Feature Scaling\n",
    "\n",
    "<b> Answer the following questions:</b> \n",
    "\n",
    "- From the information above, Do you recommend **feature scaling** to improve performance? Explain.  \n",
    "\n",
    "- What is a difference between MinMaxScaler and StandardScaler? "
   ]
  },
  {
   "cell_type": "markdown",
   "metadata": {
    "collapsed": true
   },
   "source": [
    "# code here\n",
    "1. In this case, it's very important to implement feature scaling, because the scales of different features vary greatly,by using feature scaling we can make sure every feature is being treated equally.\n",
    "\n",
    "2. Minmaxsaler is a technique to rescale the dataset so that all features have the range within[0,1] which is achieved by taking every feature and divide it by the range. As for standardScaler, all the feature will subtract the mean then  be divided by the variance so that its distribution will have 0 mean and 1 variance.\n"
   ]
  },
  {
   "cell_type": "markdown",
   "metadata": {},
   "source": [
    "======================================================================================================================="
   ]
  },
  {
   "cell_type": "markdown",
   "metadata": {},
   "source": [
    "<b>Problem #3-4 </b> Calculate and report **correlations** between features and the target \n",
    "\n",
    "<b> Answer the following questions:</b> \n",
    "\n",
    "- What is a difference between positive and negative numbers on the correlation table? Explain.\n",
    "- What is the feature that is most correlated with the target? Do you think it is the most or the least helpful features in predicting the\n",
    "target class? Explain."
   ]
  },
  {
   "cell_type": "code",
   "execution_count": null,
   "metadata": {
    "collapsed": true
   },
   "outputs": [],
   "source": [
    "# code here\n",
    "1. The positive numbers mean as the value of features increases the target value will increase too\n",
    ", the negative values, however, indicate that the target value will decrease as the value of feature increases.\n",
    "\n",
    "2. I think the LSTAT is the most helpful feature when it comes to predict the target \n",
    "and maybe CHAS will not help a lot in this case. The conclusion is based on the correlations matrix, in most cases\n",
    "the bigger absolute value of the intersection item between the feature and target is, the more likely it will \n",
    "correlate with the target."
   ]
  },
  {
   "cell_type": "markdown",
   "metadata": {},
   "source": [
    "======================================================================================================================="
   ]
  },
  {
   "cell_type": "markdown",
   "metadata": {},
   "source": [
    "<b>Problem #3-5 </b> \n",
    "Follow two steps to answer questions.\n",
    "\n",
    "- Add 1 more column (dataset.target) to your DataFrame (give a name).\n",
    "\n",
    "- Find the correlation matrix that shows the correlation between each pair of features. <br>\n",
    "\n",
    "- Plot a correlation matrix<br> You can use the code below or write your own code to plot a correlation matrix *(extra point for writing your own code)* \n",
    "\n",
    " <b>Answer the following questions:</b> \n",
    "\n",
    "- What is the correlation between the feature RM and the LSTAT?\n",
    "\n",
    "\n",
    "1.-0.613808\n",
    "\n",
    "\n",
    "- What does this value of correlation indicate?\n",
    "\n",
    "\n",
    "2. It means they are negative relative to each other, as one increases the other decreases."
   ]
  },
  {
   "cell_type": "code",
   "execution_count": 9,
   "metadata": {},
   "outputs": [
    {
     "name": "stdout",
     "output_type": "stream",
     "text": [
      "             CRIM        ZN     INDUS      CHAS       NOX        RM       AGE  \\\n",
      "CRIM     1.000000 -0.199458  0.404471 -0.055295  0.417521 -0.219940  0.350784   \n",
      "ZN      -0.199458  1.000000 -0.533828 -0.042697 -0.516604  0.311991 -0.569537   \n",
      "INDUS    0.404471 -0.533828  1.000000  0.062938  0.763651 -0.391676  0.644779   \n",
      "CHAS    -0.055295 -0.042697  0.062938  1.000000  0.091203  0.091251  0.086518   \n",
      "NOX      0.417521 -0.516604  0.763651  0.091203  1.000000 -0.302188  0.731470   \n",
      "RM      -0.219940  0.311991 -0.391676  0.091251 -0.302188  1.000000 -0.240265   \n",
      "AGE      0.350784 -0.569537  0.644779  0.086518  0.731470 -0.240265  1.000000   \n",
      "DIS     -0.377904  0.664408 -0.708027 -0.099176 -0.769230  0.205246 -0.747881   \n",
      "RAD      0.622029 -0.311948  0.595129 -0.007368  0.611441 -0.209847  0.456022   \n",
      "TAX      0.579564 -0.314563  0.720760 -0.035587  0.668023 -0.292048  0.506456   \n",
      "PTRATIO  0.288250 -0.391679  0.383248 -0.121515  0.188933 -0.355501  0.261515   \n",
      "B       -0.377365  0.175520 -0.356977  0.048788 -0.380051  0.128069 -0.273534   \n",
      "LSTAT    0.452220 -0.412995  0.603800 -0.053929  0.590879 -0.613808  0.602339   \n",
      "target  -0.385832  0.360445 -0.483725  0.175260 -0.427321  0.695360 -0.376955   \n",
      "\n",
      "              DIS       RAD       TAX   PTRATIO         B     LSTAT    target  \n",
      "CRIM    -0.377904  0.622029  0.579564  0.288250 -0.377365  0.452220 -0.385832  \n",
      "ZN       0.664408 -0.311948 -0.314563 -0.391679  0.175520 -0.412995  0.360445  \n",
      "INDUS   -0.708027  0.595129  0.720760  0.383248 -0.356977  0.603800 -0.483725  \n",
      "CHAS    -0.099176 -0.007368 -0.035587 -0.121515  0.048788 -0.053929  0.175260  \n",
      "NOX     -0.769230  0.611441  0.668023  0.188933 -0.380051  0.590879 -0.427321  \n",
      "RM       0.205246 -0.209847 -0.292048 -0.355501  0.128069 -0.613808  0.695360  \n",
      "AGE     -0.747881  0.456022  0.506456  0.261515 -0.273534  0.602339 -0.376955  \n",
      "DIS      1.000000 -0.494588 -0.534432 -0.232471  0.291512 -0.496996  0.249929  \n",
      "RAD     -0.494588  1.000000  0.910228  0.464741 -0.444413  0.488676 -0.381626  \n",
      "TAX     -0.534432  0.910228  1.000000  0.460853 -0.441808  0.543993 -0.468536  \n",
      "PTRATIO -0.232471  0.464741  0.460853  1.000000 -0.177383  0.374044 -0.507787  \n",
      "B        0.291512 -0.444413 -0.441808 -0.177383  1.000000 -0.366087  0.333461  \n",
      "LSTAT   -0.496996  0.488676  0.543993  0.374044 -0.366087  1.000000 -0.737663  \n",
      "target   0.249929 -0.381626 -0.468536 -0.507787  0.333461 -0.737663  1.000000  \n"
     ]
    },
    {
     "data": {
      "image/png": "[encoded data removed]",
      "text/plain": [
       "<Figure size 432x288 with 2 Axes>"
      ]
     },
     "metadata": {},
     "output_type": "display_data"
    }
   ],
   "source": [
    "#code here\n",
    "houseData['target'] = dataset.target\n",
    "\n",
    "print(houseData.corr())\n",
    "\n",
    "corrMatrix = houseData.corr()\n",
    "\n",
    "fig = plt.figure()\n",
    "\n",
    "ax = fig.add_subplot(111)\n",
    "\n",
    "cax = ax.matshow(corrMatrix, vmin = -1, vmax = 1)\n",
    "\n",
    "fig.colorbar(cax)\n",
    "\n",
    "ax.set_xticklabels(dataset.feature_names)\n",
    "ax.set_yticklabels(dataset.feature_names)\n",
    "\n",
    "plt.show()\n",
    "\n"
   ]
  },
  {
   "cell_type": "markdown",
   "metadata": {},
   "source": [
    "======================================================================================================================="
   ]
  },
  {
   "cell_type": "markdown",
   "metadata": {},
   "source": [
    "\n"
   ]
  },
  {
   "cell_type": "markdown",
   "metadata": {},
   "source": [
    "<b>Problem #3-6 </b> Scatter plot. <br> \n",
    "\n",
    "Follow three steps to answer questions <br> \n",
    "- Plot RM versus target variable \n",
    "- Plot TAX versus target variable \n",
    "- Plot LSTAT versus target variable <br> \n",
    "\n",
    "<b> Answer the following questions:</b> \n",
    "- Is the relationship linear?\n",
    "- Which looks the most nonlinear? Explain your choice\n"
   ]
  },
  {
   "cell_type": "markdown",
   "metadata": {},
   "source": [
    "**Plot RM versus target variable**"
   ]
  },
  {
   "cell_type": "code",
   "execution_count": 38,
   "metadata": {},
   "outputs": [
    {
     "data": {
      "image/png": "[encoded data removed]",
      "text/plain": [
       "<Figure size 432x288 with 4 Axes>"
      ]
     },
     "metadata": {},
     "output_type": "display_data"
    },
    {
     "name": "stdout",
     "output_type": "stream",
     "text": [
      "The relathionship between the RM and target should be linear.\n"
     ]
    }
   ],
   "source": [
    "#code here\n",
    "from pandas.plotting import scatter_matrix\n",
    "\n",
    "scatter_matrix(houseData[['RM','target']])\n",
    "plt.show()\n",
    "\n",
    "print(\"The relathionship between the RM and target should be linear.\")"
   ]
  },
  {
   "cell_type": "markdown",
   "metadata": {},
   "source": [
    "**Plot TAX versus target variable**"
   ]
  },
  {
   "cell_type": "code",
   "execution_count": 15,
   "metadata": {},
   "outputs": [
    {
     "data": {
      "image/png": "[encoded data removed]",
      "text/plain": [
       "<Figure size 432x288 with 4 Axes>"
      ]
     },
     "metadata": {},
     "output_type": "display_data"
    },
    {
     "name": "stdout",
     "output_type": "stream",
     "text": [
      "The relathionship between the target and tax might be non-linear, because as the value of target increases the counterpart of TAX stay the same. \n"
     ]
    }
   ],
   "source": [
    "#code here\n",
    "scatter_matrix(houseData[['TAX','target']])\n",
    "plt.show()\n",
    "\n",
    "print(\"The relathionship between the target and tax might be non-linear, because as the value of target increases the counterpart of TAX stay the same. \")"
   ]
  },
  {
   "cell_type": "markdown",
   "metadata": {},
   "source": [
    "**Plot LSTAT versus target variable **"
   ]
  },
  {
   "cell_type": "code",
   "execution_count": 16,
   "metadata": {},
   "outputs": [
    {
     "data": {
      "image/png": "[encoded data removed]",
      "text/plain": [
       "<Figure size 432x288 with 4 Axes>"
      ]
     },
     "metadata": {},
     "output_type": "display_data"
    },
    {
     "name": "stdout",
     "output_type": "stream",
     "text": [
      "This could be linear or quadratic.\n"
     ]
    }
   ],
   "source": [
    "#code here\n",
    "scatter_matrix(houseData[['LSTAT','target']])\n",
    "plt.show()\n",
    "\n",
    "print(\"This could be linear or quadratic.\")"
   ]
  },
  {
   "cell_type": "markdown",
   "metadata": {},
   "source": [
    "======================================================================================================================="
   ]
  },
  {
   "cell_type": "markdown",
   "metadata": {},
   "source": [
    "<b>Problem #3-7.</b> Follow steps to answer questions.\n",
    "> *Use train_test_split() with the option \"random_state=0\".\n",
    "\n",
    "1. Fit a linear regression model with RM and LSTAT features only. Find the R-squared metric. \n",
    "2. Fit a linear regression model using RM, LSTAT and include the interaction term (RM * LSTAT). How R-squared metric differs from the previous model without interaction term?\n",
    "3. Fit a linear regression model using LSTAT and include the polynomial term ( $LSTAT^2$).  Find the R-squared metric.\n",
    "4. Fit linear regression model using LSTAT and include the polynomial term ( $LSTAT^2$ and $LSTAT^4$ ). Find the R-squared metric. \n",
    "- How does R-squared metric differ in the previous models ? <br> Comment your observation. "
   ]
  },
  {
   "cell_type": "markdown",
   "metadata": {},
   "source": [
    "**1.  Fit a linear regression model with RM and LSTAT features only**"
   ]
  },
  {
   "cell_type": "code",
   "execution_count": 18,
   "metadata": {},
   "outputs": [
    {
     "name": "stdout",
     "output_type": "stream",
     "text": [
      "The R2 s of this model with RM and LSTAT term is 0.5692445415835345\n"
     ]
    }
   ],
   "source": [
    "#code here\n",
    "X = houseData[['RM','LSTAT']].values\n",
    "\n",
    "Y = houseData[['target']].values\n",
    "\n",
    "X_train, X_test, Y_train, Y_test = train_test_split(X,Y,random_state = 0)\n",
    "\n",
    "model = LinearRegression().fit(X_train,Y_train)\n",
    "\n",
    "print('The R2 s of this model with RM and LSTAT term is ' + str(model.score(X_test, Y_test)))\n"
   ]
  },
  {
   "cell_type": "markdown",
   "metadata": {},
   "source": [
    "**2 Fit a linear regression model using RM, LSTAT and include the interaction term (RM * LSTAT)**"
   ]
  },
  {
   "cell_type": "code",
   "execution_count": 40,
   "metadata": {},
   "outputs": [
    {
     "name": "stdout",
     "output_type": "stream",
     "text": [
      "The R2 s of this model with RM and RM*LSTAT term is 0.6615207706770674\n",
      "The R2 score of this model is higher, because the ineraction term is useful when it comes to this prediction.\n"
     ]
    }
   ],
   "source": [
    "#code here\n",
    "houseData['RM*LSTAT'] = houseData[['RM']].values * houseData[['LSTAT']].values\n",
    "\n",
    "X = houseData[['RM','LSTAT','RM*LSTAT']].values\n",
    "\n",
    "Y = houseData[['target']].values\n",
    "\n",
    "X_train, X_test, Y_train, Y_test = train_test_split(X,Y,random_state = 0)\n",
    "\n",
    "model = LinearRegression().fit(X_train,Y_train)\n",
    "\n",
    "print('The R2 s of this model with RM and RM*LSTAT term is ' + str(model.score(X_test, Y_test)))\n",
    "\n",
    "print('The R2 score of this model is higher, because the ineraction term is useful when it comes to this prediction.')\n",
    "\n",
    "\n",
    "\n"
   ]
  },
  {
   "cell_type": "markdown",
   "metadata": {},
   "source": [
    "**3 Fit a linear regression model using LSTAT and include the polynomial term (  LSTAT^2 )**"
   ]
  },
  {
   "cell_type": "code",
   "execution_count": 27,
   "metadata": {},
   "outputs": [
    {
     "name": "stdout",
     "output_type": "stream",
     "text": [
      "The R2 s of this model with RM and LSTAT term is 0.5518753354137798\n"
     ]
    }
   ],
   "source": [
    "#code here\n",
    "houseData['LSTAT*LSTAT'] = houseData[['LSTAT']].values * houseData[['LSTAT']].values\n",
    "\n",
    "X = houseData[['LSTAT','LSTAT*LSTAT']].values\n",
    "\n",
    "Y = houseData[['target']].values\n",
    "\n",
    "X_train, X_test, Y_train, Y_test = train_test_split(X,Y,random_state = 0)\n",
    "\n",
    "model = LinearRegression().fit(X_train,Y_train)\n",
    "\n",
    "print('The R2 s of this model with RM and LSTAT term is ' + str(model.score(X_test, Y_test)))"
   ]
  },
  {
   "cell_type": "markdown",
   "metadata": {},
   "source": [
    "**4. Fit linear regression model using LSTAT and include the polynomial term (  LSTAT^2  and  LSTAT^4)**"
   ]
  },
  {
   "cell_type": "code",
   "execution_count": 39,
   "metadata": {},
   "outputs": [
    {
     "name": "stdout",
     "output_type": "stream",
     "text": [
      "The R2 s of this model with RM , LSTAT^2 and LSTAT^4 term is 0.5696493127277786\n",
      "This model is slightly better than last one, maybe it is not necessarily to add the LSTAT^4 term.\n"
     ]
    }
   ],
   "source": [
    "#code here\n",
    "houseData['LSTAT^4'] = houseData[['LSTAT*LSTAT']].values * houseData[['LSTAT*LSTAT']].values\n",
    "\n",
    "X = houseData[['LSTAT','LSTAT*LSTAT','LSTAT^4']].values\n",
    "\n",
    "Y = houseData[['target']].values\n",
    "\n",
    "X_train, X_test, Y_train, Y_test = train_test_split(X,Y,random_state = 0)\n",
    "\n",
    "model = LinearRegression().fit(X_train,Y_train)\n",
    "\n",
    "print('The R2 s of this model with RM , LSTAT^2 and LSTAT^4 term is ' + str(model.score(X_test, Y_test)))\n",
    "\n",
    "print('This model is slightly better than last one, maybe it is not necessarily to add the LSTAT^4 term.')"
   ]
  },
  {
   "cell_type": "markdown",
   "metadata": {},
   "source": [
    "========================================================================================================================="
   ]
  },
  {
   "cell_type": "markdown",
   "metadata": {},
   "source": [
    "<b>Problem #3-8.</b> Fit all features (13 features) in the dataset to a multiple linear regression model, and report<br> \n",
    "\n",
    "> (1) p-values for each feature. \n",
    "\n",
    "<b> Answer the following questions:</b> \n",
    "\n",
    "- What does p-value means\n",
    "\n",
    "\n",
    "P value means how likely the assumption we made(in this case the assumption is that the coefficent is not zero) is wrong. So we can use it as a indicator to show how the feature is relavent to the target value.\n",
    "\n",
    "- What are the important features? <br>\n",
    "\n",
    "\n",
    "CRIM , ZN, CHAS, NOX, RM, DIS, RAD ,TAX, PTRATIO,B, LSTAT."
   ]
  },
  {
   "cell_type": "code",
   "execution_count": 32,
   "metadata": {},
   "outputs": [
    {
     "name": "stdout",
     "output_type": "stream",
     "text": [
      "                            OLS Regression Results                            \n",
      "==============================================================================\n",
      "Dep. Variable:                 target   R-squared:                       0.741\n",
      "Model:                            OLS   Adj. R-squared:                  0.734\n",
      "Method:                 Least Squares   F-statistic:                     108.1\n",
      "Date:                Sun, 30 Sep 2018   Prob (F-statistic):          6.95e-135\n",
      "Time:                        13:02:25   Log-Likelihood:                -1498.8\n",
      "No. Observations:                 506   AIC:                             3026.\n",
      "Df Residuals:                     492   BIC:                             3085.\n",
      "Df Model:                          13                                         \n",
      "Covariance Type:            nonrobust                                         \n",
      "==============================================================================\n",
      "                 coef    std err          t      P>|t|      [0.025      0.975]\n",
      "------------------------------------------------------------------------------\n",
      "Intercept     36.4911      5.104      7.149      0.000      26.462      46.520\n",
      "CRIM          -0.1072      0.033     -3.276      0.001      -0.171      -0.043\n",
      "ZN             0.0464      0.014      3.380      0.001       0.019       0.073\n",
      "INDUS          0.0209      0.061      0.339      0.735      -0.100       0.142\n",
      "CHAS           2.6886      0.862      3.120      0.002       0.996       4.381\n",
      "NOX          -17.7958      3.821     -4.658      0.000     -25.302     -10.289\n",
      "RM             3.8048      0.418      9.102      0.000       2.983       4.626\n",
      "AGE            0.0008      0.013      0.057      0.955      -0.025       0.027\n",
      "DIS           -1.4758      0.199     -7.398      0.000      -1.868      -1.084\n",
      "RAD            0.3057      0.066      4.608      0.000       0.175       0.436\n",
      "TAX           -0.0123      0.004     -3.278      0.001      -0.020      -0.005\n",
      "PTRATIO       -0.9535      0.131     -7.287      0.000      -1.211      -0.696\n",
      "B              0.0094      0.003      3.500      0.001       0.004       0.015\n",
      "LSTAT         -0.5255      0.051    -10.366      0.000      -0.625      -0.426\n",
      "==============================================================================\n",
      "Omnibus:                      178.029   Durbin-Watson:                   1.078\n",
      "Prob(Omnibus):                  0.000   Jarque-Bera (JB):              782.015\n",
      "Skew:                           1.521   Prob(JB):                    1.54e-170\n",
      "Kurtosis:                       8.276   Cond. No.                     1.51e+04\n",
      "==============================================================================\n",
      "\n",
      "Warnings:\n",
      "[1] Standard Errors assume that the covariance matrix of the errors is correctly specified.\n",
      "[2] The condition number is large, 1.51e+04. This might indicate that there are\n",
      "strong multicollinearity or other numerical problems.\n"
     ]
    }
   ],
   "source": [
    "#code here\n",
    "import statsmodels.formula.api as smf\n",
    "\n",
    "model = smf.ols('target ~ CRIM + ZN + INDUS + CHAS + NOX + RM + AGE + DIS + RAD + TAX +PTRATIO + B + LSTAT',houseData)\n",
    "\n",
    "result = model.fit()\n",
    "\n",
    "print(result.summary())\n",
    "\n"
   ]
  },
  {
   "cell_type": "markdown",
   "metadata": {},
   "source": [
    "==========================================================================+============================================== <br> ========================================================================================================================="
   ]
  },
  {
   "cell_type": "markdown",
   "metadata": {},
   "source": [
    "<b>Problem #4.</b>  Encoding categorical values\n",
    "\n",
    "Given a dataset (encoding.csv) with three features and twenty samples with the following types:\n",
    "\n",
    "- \"Gender\" is nominal feature in which order is not important (mapping can be used)\n",
    "- \"Race\" is nominal feature (all values have the same weight). label encoding and one-hot encoding can be used together.\n",
    "- \"Satisfaction\" is nominal feature in which order is important (label encoding can be used)\n",
    "\n",
    "Use appropriate encoding method for each feature to convert the categorical values into a meaningful numerical values."
   ]
  },
  {
   "cell_type": "code",
   "execution_count": 36,
   "metadata": {},
   "outputs": [
    {
     "name": "stdout",
     "output_type": "stream",
     "text": [
      "    Gender  Race  Satisfaction\n",
      "0        0     4             4\n",
      "1        0     4             1\n",
      "2        0     4             4\n",
      "3        1     1             0\n",
      "4        0     1             1\n",
      "5        1     2             1\n",
      "6        0     2             4\n",
      "7        1     2             0\n",
      "8        1     4             0\n",
      "9        1     2             1\n",
      "10       0     3             2\n",
      "11       0     3             3\n",
      "12       0     3             3\n",
      "13       1     3             0\n",
      "14       0     3             2\n",
      "15       0     2             3\n",
      "16       0     0             3\n",
      "17       1     0             0\n",
      "18       0     0             2\n",
      "19       1     1             1\n"
     ]
    }
   ],
   "source": [
    "#code here\n",
    "\n",
    "from sklearn import preprocessing\n",
    "label = preprocessing.LabelEncoder()\n",
    "encoding = pd.read_csv('encoding.csv')\n",
    "\n",
    "encoding.Gender = encoding.Gender.map({'Male':0,'Female':1})\n",
    "encoding.Race = label.fit_transform(encoding.Race)\n",
    "encoding.Satisfaction = label.fit_transform(encoding.Satisfaction)\n"
   ]
  },
  {
   "cell_type": "markdown",
   "metadata": {},
   "source": [
    "### Submission\n",
    "Once you complete the assignment, <br>\n",
    "Name your file in the format of <b style='color:red'>LASTNAME-PITTID-Assignment1.ipynb</b>, and submit it on the courseweb"
   ]
  }
 ],
 "metadata": {
  "kernelspec": {
   "display_name": "Python 3",
   "language": "python",
   "name": "python3"
  },
  "language_info": {
   "codemirror_mode": {
    "name": "ipython",
    "version": 3
   },
   "file_extension": ".py",
   "mimetype": "text/x-python",
   "name": "python",
   "nbconvert_exporter": "python",
   "pygments_lexer": "ipython3",
   "version": "3.6.5"
  }
 },
 "nbformat": 4,
 "nbformat_minor": 2
}
