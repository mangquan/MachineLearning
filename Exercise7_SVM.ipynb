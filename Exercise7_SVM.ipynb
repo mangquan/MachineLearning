{
 "cells": [
  {
   "cell_type": "markdown",
   "metadata": {},
   "source": [
    "## SVM \n",
    "\n",
    "In this part, we will apply SVM for classification of breast cancer using the Wisconsin's data set. Read the description of the dataset, then answer the following questions. Whenever needed to split the data, use random_state=0 in train_test_split\n",
    "\n",
    "#### 1) Find the accuracy of SVM classifier with parameter C=0.1, and  radial basis function kernel (rbf) of parameter Gamma =0.2. (5 pt)\n"
   ]
  },
  {
   "cell_type": "code",
   "execution_count": 2,
   "metadata": {},
   "outputs": [
    {
     "name": "stdout",
     "output_type": "stream",
     "text": [
      "The accuracy of svc with gamma = 0.2, c = 0.1 is  0.6293706293706294\n"
     ]
    }
   ],
   "source": [
    "from sklearn.svm import SVC\n",
    "from sklearn.datasets import load_breast_cancer\n",
    "#from sklearn.datasets import load_iris\n",
    "from sklearn.model_selection import train_test_split\n",
    "from sklearn.preprocessing import MinMaxScaler \n",
    "from sklearn.model_selection import cross_val_score\n",
    "import numpy as np\n",
    "\n",
    "CancerDataset=load_breast_cancer()\n",
    "# print(CancerDataset.DESCR)\n",
    "\n",
    "model = SVC(gamma=0.2, C=0.1)\n",
    "\n",
    "x_train, x_test, y_train, y_test = train_test_split(CancerDataset.data, CancerDataset.target, random_state=0)\n",
    "\n",
    "model.fit(x_train, y_train)\n",
    "\n",
    "print('The accuracy of svc with gamma = 0.2, c = 0.1 is ',model.score(x_test, y_test))\n",
    "\n"
   ]
  },
  {
   "cell_type": "markdown",
   "metadata": {},
   "source": [
    "#### 2) Repeat part (1) but scale the features with MinMaxScaler. Compare results of (1) and (2) and comment on the results. (5 pt)\n"
   ]
  },
  {
   "cell_type": "code",
   "execution_count": 3,
   "metadata": {},
   "outputs": [
    {
     "name": "stdout",
     "output_type": "stream",
     "text": [
      "The accuracy of svc with scaled data is  0.951048951048951\n",
      "It is very important to have parameters in a same magnitude, so that every parameter can be treated equally\n"
     ]
    }
   ],
   "source": [
    "scaler = MinMaxScaler()\n",
    "\n",
    "scaler.fit(CancerDataset.data)\n",
    "\n",
    "x_train, x_test, y_train, y_test = train_test_split(scaler.transform(CancerDataset.data), CancerDataset.target, random_state=0)\n",
    "\n",
    "model.fit(x_train, y_train)\n",
    "\n",
    "print('The accuracy of svc with scaled data is ', model.score(x_test, y_test))\n",
    "\n",
    "print('It is very important to have parameters in a same magnitude, so that every parameter can be treated equally')\n"
   ]
  },
  {
   "cell_type": "markdown",
   "metadata": {},
   "source": [
    "#### 3) Using scaled features, find best SVM classifier. Try values of the regularization C=[0.1, 1, 5] and RBF parameter Gamma = [ 0.1, 1, 5]. Use 5-fold cross validation to find the best parameters (using all possible combinations of these values for C and gamma). (10 pt)"
   ]
  },
  {
   "cell_type": "code",
   "execution_count": 4,
   "metadata": {},
   "outputs": [
    {
     "name": "stdout",
     "output_type": "stream",
     "text": [
      "Best c is  1\n",
      "Best gamma is  1\n",
      "Best score on train set is  0.9812859097127223\n",
      "Best score on test set is  0.972027972027972\n"
     ]
    }
   ],
   "source": [
    "C = [0.1, 1, 5]\n",
    "\n",
    "Gamma = [0.1, 1, 5]\n",
    "\n",
    "best_score = 0\n",
    "\n",
    "kfolds = 5\n",
    "\n",
    "for c in C:\n",
    "    for g in Gamma:\n",
    "        scores = cross_val_score(SVC(gamma=g, C=c), X=x_train, y=y_train, cv= kfolds)\n",
    "        score = np.mean(scores)\n",
    "\n",
    "        if score > best_score:\n",
    "            best_c = c\n",
    "            best_g = g\n",
    "            best_score = score\n",
    "\n",
    "SelectedModel = SVC(C=best_c, gamma=best_g).fit(x_train, y_train)\n",
    "\n",
    "print('Best c is ', best_c)\n",
    "\n",
    "print('Best gamma is ', best_g)\n",
    "\n",
    "print('Best score on train set is ', best_score)\n",
    "\n",
    "print('Best score on test set is ', SelectedModel.score(x_test, y_test))\n"
   ]
  },
  {
   "cell_type": "code",
   "execution_count": null,
   "metadata": {},
   "outputs": [],
   "source": []
  }
 ],
 "metadata": {
  "kernelspec": {
   "display_name": "Python 3",
   "language": "python",
   "name": "python3"
  },
  "language_info": {
   "codemirror_mode": {
    "name": "ipython",
    "version": 3
   },
   "file_extension": ".py",
   "mimetype": "text/x-python",
   "name": "python",
   "nbconvert_exporter": "python",
   "pygments_lexer": "ipython3",
   "version": "3.6.5"
  }
 },
 "nbformat": 4,
 "nbformat_minor": 2
}
