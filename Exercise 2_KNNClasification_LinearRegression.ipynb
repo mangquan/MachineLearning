{
 "cells": [
  {
   "cell_type": "markdown",
   "metadata": {},
   "source": [
    "# Exercise 2\n",
    "\n",
    "## Part I: KNN Classifier\n",
    "\n",
    "In this exercise we implement the KNN for classification of the Iris dataset\n",
    "\n",
    "First, understand the dataset and its contents by finding the keys and reading the description of the dataset by running the code block below "
   ]
  },
  {
   "cell_type": "code",
   "execution_count": null,
   "metadata": {
    "collapsed": true
   },
   "outputs": [],
   "source": [
    "from sklearn.datasets import load_iris\n",
    "iris_dataset=load_iris() #creates an object that contains the iris dataset\n",
    "print('Keys of the iris_dataset is:', iris_dataset.keys())"
   ]
  },
  {
   "cell_type": "code",
   "execution_count": null,
   "metadata": {
    "collapsed": true
   },
   "outputs": [],
   "source": [
    "print(iris_dataset.DESCR)"
   ]
  },
  {
   "cell_type": "markdown",
   "metadata": {},
   "source": [
    "A) Classify the Iris species with KNN approach using the first two feature only (X_train[:, : 2], X_test[:, : 2]), and check the accuracy as K changes. Let K takes the values [1, 5, 10, 15]. No need to scale features.\n",
    "In the code, use random_state=100 in train_test_split as below.\n",
    "\n",
    "Plot the accuracy and comment on your result"
   ]
  },
  {
   "cell_type": "code",
   "execution_count": null,
   "metadata": {
    "collapsed": true
   },
   "outputs": [],
   "source": [
    "%matplotlib inline\n",
    "import matplotlib.pyplot as plt\n",
    "import pandas as pd\n",
    "from sklearn.neighbors import KNeighborsClassifier \n",
    "import numpy as np\n",
    "from sklearn.model_selection import train_test_split\n",
    "from sklearn import preprocessing\n",
    "\n",
    "\n",
    "test_accuracy=[] # you can use the .append to test_accuracy to store the result\n",
    "X_train, X_test, Y_train, Y_test = train_test_split(iris_dataset['data'],iris_dataset['target'],random_state=100)\n",
    "\n",
    "#complete your code here\n"
   ]
  },
  {
   "cell_type": "markdown",
   "metadata": {},
   "source": [
    "B) Use the Iris example, and find the accuracy of the KNN approach with K=5 when different number of features is used without scaling. \n",
    "Hint: To use N_features only from training data use: X_train[:, : N_features ]\n",
    "Write down the accuracy when using one, two, three, and the four features\n"
   ]
  },
  {
   "cell_type": "code",
   "execution_count": null,
   "metadata": {
    "collapsed": true
   },
   "outputs": [],
   "source": [
    "# You can write you code here"
   ]
  },
  {
   "cell_type": "markdown",
   "metadata": {},
   "source": [
    "C) Repeat B when feature scaling with MinMaxScaler is used"
   ]
  },
  {
   "cell_type": "code",
   "execution_count": null,
   "metadata": {
    "collapsed": true
   },
   "outputs": [],
   "source": [
    "# You can write you code here"
   ]
  },
  {
   "cell_type": "markdown",
   "metadata": {},
   "source": [
    "## Part 2: Linear Regression\n",
    "\n",
    "Using the Scikit-Learn library, fit a linear regression model using advertising trianing set, then find the mean square error of the fitted model using test data. Use random_state= 0 in the train_test_split function."
   ]
  },
  {
   "cell_type": "code",
   "execution_count": 2,
   "metadata": {},
   "outputs": [
    {
     "name": "stdout",
     "output_type": "stream",
     "text": [
      "==============================================================================\n",
      "                 coef    std err          t      P>|t|      [0.025      0.975]\n",
      "------------------------------------------------------------------------------\n",
      "Intercept      7.0326      0.458     15.360      0.000       6.130       7.935\n",
      "TV             0.0475      0.003     17.668      0.000       0.042       0.053\n",
      "==============================================================================\n",
      "p-values are: \n",
      " Intercept    1.406300e-35\n",
      "TV           1.467390e-42\n",
      "dtype: float64\n"
     ]
    }
   ],
   "source": [
    "%matplotlib inline\n",
    "import matplotlib.pyplot as plt\n",
    "import numpy as np\n",
    "import pandas as pd\n",
    "from sklearn.model_selection import train_test_split\n",
    "from sklearn.linear_model import LinearRegression\n",
    "from sklearn.metrics import mean_squared_error\n",
    "import statsmodels.formula.api as smf\n",
    "\n",
    "\n",
    "AdvertisingData=pd.read_csv('Advertising.csv')\n",
    "model=smf.ols('Sales ~ TV', AdvertisingData)\n",
    "Fitting_results=model.fit()\n",
    "print(Fitting_results.summary().tables[1])\n",
    "print('p-values are: \\n', Fitting_results.pvalues)\n",
    "\n",
    "# write you code here to answer the above question"
   ]
  },
  {
   "cell_type": "code",
   "execution_count": null,
   "metadata": {},
   "outputs": [],
   "source": [
    "AdvertisingData=pd.read_csv('Advertising.csv')\n",
    "model=smf.ols('Sales ~ TV', AdvertisingData)\n",
    "Fitting_results=model.fit()\n",
    "print(Fitting_results.summary().tables[1])\n",
    "print('p-values are: \\n', Fitting_results.pvalues)"
   ]
  }
 ],
 "metadata": {
  "kernelspec": {
   "display_name": "Python 3",
   "language": "python",
   "name": "python3"
  },
  "language_info": {
   "codemirror_mode": {
    "name": "ipython",
    "version": 3
   },
   "file_extension": ".py",
   "mimetype": "text/x-python",
   "name": "python",
   "nbconvert_exporter": "python",
   "pygments_lexer": "ipython3",
   "version": "3.6.5"
  }
 },
 "nbformat": 4,
 "nbformat_minor": 2
}
